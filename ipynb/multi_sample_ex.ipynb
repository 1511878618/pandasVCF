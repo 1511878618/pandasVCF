{
 "metadata": {
  "name": "",
  "signature": "sha256:6e604bd509cda5582727257e1c925f092b9c5ad0b7c141d2112b217ae55f6d8c"
 },
 "nbformat": 3,
 "nbformat_minor": 0,
 "worksheets": [
  {
   "cells": [
    {
     "cell_type": "heading",
     "level": 3,
     "metadata": {},
     "source": [
      "This example notebook describes simple usage of pdVCFsingle, a module for parsing VCF files using the pandas library.  The single indicates that it does not load multiple samples into the dataframe, but can parse a single sample from a multi-sample VCF.  "
     ]
    },
    {
     "cell_type": "heading",
     "level": 1,
     "metadata": {},
     "source": [
      "Libraries"
     ]
    },
    {
     "cell_type": "code",
     "collapsed": false,
     "input": [
      "#Import pdVCFsingle package\n",
      "import matplotlib as plt\n",
      "import sys\n",
      "sys.path.append( '/Users/erickscott/git/pandasVCF/src/multi_sample/' )\n",
      "from pandasVCFmulti import *\n",
      "%config InlineBackend.figure_format = 'retina'"
     ],
     "language": "python",
     "metadata": {},
     "outputs": [],
     "prompt_number": 1
    },
    {
     "cell_type": "heading",
     "level": 1,
     "metadata": {},
     "source": [
      "Example File Path"
     ]
    },
    {
     "cell_type": "code",
     "collapsed": false,
     "input": [
      "vcf_path = '/Users/erickscott/git/fiSSEA/ipynb/SWGR_titin.vcf.gz'\n"
     ],
     "language": "python",
     "metadata": {},
     "outputs": [],
     "prompt_number": 2
    },
    {
     "cell_type": "code",
     "collapsed": false,
     "input": [
      "!vcf2tsv"
     ],
     "language": "python",
     "metadata": {},
     "outputs": [
      {
       "output_type": "stream",
       "stream": "stdout",
       "text": [
        "/bin/sh: vcf2tsv: command not found\r\n"
       ]
      }
     ],
     "prompt_number": 3
    },
    {
     "cell_type": "heading",
     "level": 1,
     "metadata": {},
     "source": [
      "Creating Vcf object"
     ]
    },
    {
     "cell_type": "heading",
     "level": 3,
     "metadata": {},
     "source": [
      "Initiate Vcf object by specifying the sample_id string and the columns the user wants to include for parsing.  Only the CHROM, POS, REF, ALT, and FORMAT fields are required. A parser for the INFO field is in development.  Some VCF files are quite large and will not fit in memory, therefore the user can specify the chunksize which allows iteration through the VCF.  A chunksize of 100,000 requires ~10seconds to parse."
     ]
    },
    {
     "cell_type": "code",
     "collapsed": false,
     "input": [
      "vcf_chunk = Vcf(vcf_path, sample_id='all', cols=['#CHROM', 'POS', 'REF', 'ALT','FORMAT'], chunksize=1000)"
     ],
     "language": "python",
     "metadata": {},
     "outputs": [],
     "prompt_number": 4
    },
    {
     "cell_type": "code",
     "collapsed": false,
     "input": [
      "%time vcf_chunk.get_vcf_df_chunk()"
     ],
     "language": "python",
     "metadata": {},
     "outputs": [
      {
       "output_type": "stream",
       "stream": "stdout",
       "text": [
        "CPU times: user 200 ms, sys: 25.6 ms, total: 226 ms\n",
        "Wall time: 226 ms\n"
       ]
      },
      {
       "metadata": {},
       "output_type": "pyout",
       "prompt_number": 5,
       "text": [
        "0"
       ]
      }
     ],
     "prompt_number": 5
    },
    {
     "cell_type": "code",
     "collapsed": false,
     "input": [
      "%time vcf_chunk.add_variant_annotations(split_columns={'HQ':2, 'AD':2} )"
     ],
     "language": "python",
     "metadata": {},
     "outputs": [
      {
       "output_type": "stream",
       "stream": "stderr",
       "text": [
        "/Users/erickscott/git/pandasVCF/src/multi_sample/variantAnnotations.py:118: SettingWithCopyWarning: \n",
        "A value is trying to be set on a copy of a slice from a DataFrame.\n",
        "Try using .loc[row_indexer,col_indexer] = value instead\n",
        "\n",
        "See the the caveats in the documentation: http://pandas.pydata.org/pandas-docs/stable/indexing.html#indexing-view-versus-copy\n",
        "  df['phase'] = df[sample_col].str[1]\n",
        "/Users/erickscott/git/pandasVCF/src/multi_sample/variantAnnotations.py:176: SettingWithCopyWarning: \n",
        "A value is trying to be set on a copy of a slice from a DataFrame.\n",
        "Try using .loc[row_indexer,col_indexer] = value instead\n",
        "\n",
        "See the the caveats in the documentation: http://pandas.pydata.org/pandas-docs/stable/indexing.html#indexing-view-versus-copy\n",
        "  df_hom_ref['zygosity'] = 'hom-ref'\n"
       ]
      },
      {
       "output_type": "stream",
       "stream": "stderr",
       "text": [
        "/Users/erickscott/git/pandasVCF/src/multi_sample/variantAnnotations.py:189: SettingWithCopyWarning: \n",
        "A value is trying to be set on a copy of a slice from a DataFrame.\n",
        "Try using .loc[row_indexer,col_indexer] = value instead\n",
        "\n",
        "See the the caveats in the documentation: http://pandas.pydata.org/pandas-docs/stable/indexing.html#indexing-view-versus-copy\n",
        "  df_het_alt['zygosity'] = 'het-alt'\n",
        "/Users/erickscott/git/pandasVCF/src/multi_sample/variantAnnotations.py:192: SettingWithCopyWarning: \n",
        "A value is trying to be set on a copy of a slice from a DataFrame.\n",
        "Try using .loc[row_indexer,col_indexer] = value instead\n",
        "\n",
        "See the the caveats in the documentation: http://pandas.pydata.org/pandas-docs/stable/indexing.html#indexing-view-versus-copy\n",
        "  df_hom_alt['zygosity'] = 'hom-alt'\n"
       ]
      },
      {
       "output_type": "stream",
       "stream": "stderr",
       "text": [
        "/Users/erickscott/git/pandasVCF/src/multi_sample/variantAnnotations.py:195: SettingWithCopyWarning: \n",
        "A value is trying to be set on a copy of a slice from a DataFrame.\n",
        "Try using .loc[row_indexer,col_indexer] = value instead\n",
        "\n",
        "See the the caveats in the documentation: http://pandas.pydata.org/pandas-docs/stable/indexing.html#indexing-view-versus-copy\n",
        "  df_het_ref['zygosity'] = 'het-ref'\n",
        "/Library/Frameworks/EPD64.framework/Versions/7.3/lib/python2.7/site-packages/pandas/core/generic.py:2624: SettingWithCopyWarning: \n",
        "A value is trying to be set on a copy of a slice from a DataFrame\n",
        "\n",
        "See the the caveats in the documentation: http://pandas.pydata.org/pandas-docs/stable/indexing.html#indexing-view-versus-copy\n",
        "  self._update_inplace(new_data)\n"
       ]
      },
      {
       "output_type": "stream",
       "stream": "stdout",
       "text": [
        "CPU times: user 18.1 s, sys: 1.41 s, total: 19.5 s\n",
        "Wall time: 19.5 s\n"
       ]
      },
      {
       "metadata": {},
       "output_type": "pyout",
       "prompt_number": 6,
       "text": [
        "0"
       ]
      }
     ],
     "prompt_number": 6
    },
    {
     "cell_type": "code",
     "collapsed": false,
     "input": [
      "len(vcf_chunk.df_annot)"
     ],
     "language": "python",
     "metadata": {},
     "outputs": [
      {
       "metadata": {},
       "output_type": "pyout",
       "prompt_number": 7,
       "text": [
        "7759"
       ]
      }
     ],
     "prompt_number": 7
    },
    {
     "cell_type": "code",
     "collapsed": false,
     "input": [
      "vcf_chunk.df_annot.info()"
     ],
     "language": "python",
     "metadata": {},
     "outputs": [
      {
       "output_type": "stream",
       "stream": "stdout",
       "text": [
        "<class 'pandas.core.frame.DataFrame'>\n",
        "MultiIndex: 4747 entries, (2, 179457066, CA, C, SHUFFLE_WELLDERLY_EA_190) to (2, 179506414, A, C, SHUFFLE_WELLDERLY_EA_96)\n",
        "Data columns (total 18 columns):\n",
        "multiallele       4747 non-null int64\n",
        "phase             4747 non-null object\n",
        "GT1               4747 non-null int64\n",
        "GT2               4747 non-null int64\n",
        "a1                4747 non-null object\n",
        "a2                4747 non-null object\n",
        "zygosity          4747 non-null object\n",
        "hom_ref_counts    4747 non-null float64\n",
        "vartype1          4747 non-null object\n",
        "vartype2          4747 non-null object\n",
        "GT                4747 non-null object\n",
        "FT                4747 non-null object\n",
        "GQ                4747 non-null object\n",
        "DP                4747 non-null object\n",
        "HQ_0              4747 non-null object\n",
        "HQ_1              4747 non-null object\n",
        "AD_0              4747 non-null object\n",
        "AD_1              4747 non-null object\n",
        "dtypes: float64(1), int64(3), object(14)\n",
        "memory usage: 704.6 KB\n"
       ]
      }
     ],
     "prompt_number": 12
    },
    {
     "cell_type": "code",
     "collapsed": false,
     "input": [],
     "language": "python",
     "metadata": {},
     "outputs": []
    }
   ],
   "metadata": {}
  }
 ]
}